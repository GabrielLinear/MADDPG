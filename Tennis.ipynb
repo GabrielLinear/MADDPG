{
 "cells": [
  {
   "cell_type": "markdown",
   "metadata": {},
   "source": [
    "# Collaboration and Competition\n",
    "\n",
    "---\n",
    "\n",
    "In this notebook, you will learn how to use the Unity ML-Agents environment for the third project of the [Deep Reinforcement Learning Nanodegree](https://www.udacity.com/course/deep-reinforcement-learning-nanodegree--nd893) program.\n",
    "\n",
    "### 1. Start the Environment\n",
    "\n",
    "We begin by importing the necessary packages.  If the code cell below returns an error, please revisit the project instructions to double-check that you have installed [Unity ML-Agents](https://github.com/Unity-Technologies/ml-agents/blob/master/docs/Installation.md) and [NumPy](http://www.numpy.org/)."
   ]
  },
  {
   "cell_type": "code",
   "execution_count": 1,
   "metadata": {},
   "outputs": [],
   "source": [
    "from unityagents import UnityEnvironment\n",
    "import numpy as np"
   ]
  },
  {
   "cell_type": "markdown",
   "metadata": {},
   "source": [
    "Next, we will start the environment!  **_Before running the code cell below_**, change the `file_name` parameter to match the location of the Unity environment that you downloaded.\n",
    "\n",
    "- **Mac**: `\"path/to/Tennis.app\"`\n",
    "- **Windows** (x86): `\"path/to/Tennis_Windows_x86/Tennis.exe\"`\n",
    "- **Windows** (x86_64): `\"path/to/Tennis_Windows_x86_64/Tennis.exe\"`\n",
    "- **Linux** (x86): `\"path/to/Tennis_Linux/Tennis.x86\"`\n",
    "- **Linux** (x86_64): `\"path/to/Tennis_Linux/Tennis.x86_64\"`\n",
    "- **Linux** (x86, headless): `\"path/to/Tennis_Linux_NoVis/Tennis.x86\"`\n",
    "- **Linux** (x86_64, headless): `\"path/to/Tennis_Linux_NoVis/Tennis.x86_64\"`\n",
    "\n",
    "For instance, if you are using a Mac, then you downloaded `Tennis.app`.  If this file is in the same folder as the notebook, then the line below should appear as follows:\n",
    "```\n",
    "env = UnityEnvironment(file_name=\"Tennis.app\")\n",
    "```"
   ]
  },
  {
   "cell_type": "code",
   "execution_count": 2,
   "metadata": {},
   "outputs": [
    {
     "name": "stderr",
     "output_type": "stream",
     "text": [
      "INFO:unityagents:\n",
      "'Academy' started successfully!\n",
      "Unity Academy name: Academy\n",
      "        Number of Brains: 1\n",
      "        Number of External Brains : 1\n",
      "        Lesson number : 0\n",
      "        Reset Parameters :\n",
      "\t\t\n",
      "Unity brain name: TennisBrain\n",
      "        Number of Visual Observations (per agent): 0\n",
      "        Vector Observation space type: continuous\n",
      "        Vector Observation space size (per agent): 8\n",
      "        Number of stacked Vector Observation: 3\n",
      "        Vector Action space type: continuous\n",
      "        Vector Action space size (per agent): 2\n",
      "        Vector Action descriptions: , \n"
     ]
    }
   ],
   "source": [
    "env = UnityEnvironment(file_name=\"C:/Users/gabyc/Desktop/Reinforcment_TP/deep-reinforcement-learning/p3_collab-compet/Tennis_Windows_x86_64/Tennis.exe\")\n",
    "# Only one Event is possible."
   ]
  },
  {
   "cell_type": "code",
   "execution_count": 3,
   "metadata": {},
   "outputs": [],
   "source": [
    "# Space vector = 8 -> Continuous ? here are 2 agents. Each observes a state with length: 24\n",
    "# Action vector = 2 -> Continuous. Action entre -1 et 1."
   ]
  },
  {
   "cell_type": "markdown",
   "metadata": {},
   "source": [
    "Environments contain **_brains_** which are responsible for deciding the actions of their associated agents. Here we check for the first brain available, and set it as the default brain we will be controlling from Python."
   ]
  },
  {
   "cell_type": "code",
   "execution_count": 4,
   "metadata": {},
   "outputs": [
    {
     "name": "stdout",
     "output_type": "stream",
     "text": [
      "['TennisBrain']\n"
     ]
    }
   ],
   "source": [
    "# get the default brain\n",
    "print(env.brain_names)\n",
    "brain_name = env.brain_names[0]\n",
    "brain = env.brains[brain_name]"
   ]
  },
  {
   "cell_type": "markdown",
   "metadata": {},
   "source": [
    "### 2. Examine the State and Action Spaces\n",
    "\n",
    "In this environment, two agents control rackets to bounce a ball over a net. If an agent hits the ball over the net, it receives a reward of +0.1.  If an agent lets a ball hit the ground or hits the ball out of bounds, it receives a reward of -0.01.  Thus, the goal of each agent is to keep the ball in play.\n",
    "\n",
    "The observation space consists of 8 variables corresponding to the position and velocity of the ball and racket. Two continuous actions are available, corresponding to movement toward (or away from) the net, and jumping. \n",
    "\n",
    "Run the code cell below to print some information about the environment."
   ]
  },
  {
   "cell_type": "code",
   "execution_count": 5,
   "metadata": {},
   "outputs": [
    {
     "name": "stdout",
     "output_type": "stream",
     "text": [
      "Number of agents: 2\n",
      "Size of each action: 2\n",
      "There are 2 agents. Each observes a state with length: 24\n",
      "The state for the first agent looks like: [ 0.          0.          0.          0.          0.          0.\n",
      "  0.          0.          0.          0.          0.          0.\n",
      "  0.          0.          0.          0.         -6.65278625 -1.5\n",
      " -0.          0.          6.83172083  6.         -0.          0.        ]\n",
      "[[ 0.          0.          0.          0.          0.          0.\n",
      "   0.          0.          0.          0.          0.          0.\n",
      "   0.          0.          0.          0.         -6.65278625 -1.5\n",
      "  -0.          0.          6.83172083  6.         -0.          0.        ]\n",
      " [ 0.          0.          0.          0.          0.          0.\n",
      "   0.          0.          0.          0.          0.          0.\n",
      "   0.          0.          0.          0.         -6.4669857  -1.5\n",
      "   0.          0.         -6.83172083  6.          0.          0.        ]]\n"
     ]
    }
   ],
   "source": [
    "# reset the environment\n",
    "env_info = env.reset(train_mode=True)[brain_name]\n",
    "\n",
    "# number of agents \n",
    "num_agents = len(env_info.agents)\n",
    "print('Number of agents:', num_agents)\n",
    "\n",
    "# size of each action\n",
    "action_size = brain.vector_action_space_size\n",
    "print('Size of each action:', action_size)\n",
    "\n",
    "# examine the state space \n",
    "states = env_info.vector_observations\n",
    "state_size = states.shape[1]\n",
    "print('There are {} agents. Each observes a state with length: {}'.format(states.shape[0], state_size))\n",
    "print('The state for the first agent looks like:', states[0])\n",
    "print(states)"
   ]
  },
  {
   "cell_type": "markdown",
   "metadata": {},
   "source": [
    "### 3. Take Random Actions in the Environment\n",
    "\n",
    "In the next code cell, you will learn how to use the Python API to control the agents and receive feedback from the environment.\n",
    "\n",
    "Once this cell is executed, you will watch the agents' performance, if they select actions at random with each time step.  A window should pop up that allows you to observe the agents.\n",
    "\n",
    "Of course, as part of the project, you'll have to change the code so that the agents are able to use their experiences to gradually choose better actions when interacting with the environment!"
   ]
  },
  {
   "cell_type": "code",
   "execution_count": 481,
   "metadata": {},
   "outputs": [
    {
     "name": "stdout",
     "output_type": "stream",
     "text": [
      "[[ 0.83281874  0.61678056  0.67628151]\n",
      " [ 0.91208686 -0.85882315 -0.68327072]]\n"
     ]
    },
    {
     "ename": "UnityActionException",
     "evalue": "There was a mismatch between the provided action and environment's expectation: The brain TennisBrain expected 4 continuous action(s), but was provided: [0.8328187435217099, 0.6167805635806435, 0.6762815106358739, 0.9120868581510255, -0.8588231507422037, -0.6832707184137332]",
     "output_type": "error",
     "traceback": [
      "\u001b[1;31m---------------------------------------------------------------------------\u001b[0m",
      "\u001b[1;31mUnityActionException\u001b[0m                      Traceback (most recent call last)",
      "\u001b[1;32m<ipython-input-481-af59864e61d6>\u001b[0m in \u001b[0;36m<module>\u001b[1;34m\u001b[0m\n\u001b[0;32m      7\u001b[0m         \u001b[0mprint\u001b[0m\u001b[1;33m(\u001b[0m\u001b[0mactions\u001b[0m\u001b[1;33m)\u001b[0m\u001b[1;33m\u001b[0m\u001b[1;33m\u001b[0m\u001b[0m\n\u001b[0;32m      8\u001b[0m         \u001b[0mactions\u001b[0m \u001b[1;33m=\u001b[0m \u001b[0mnp\u001b[0m\u001b[1;33m.\u001b[0m\u001b[0mclip\u001b[0m\u001b[1;33m(\u001b[0m\u001b[0mactions\u001b[0m\u001b[1;33m,\u001b[0m \u001b[1;33m-\u001b[0m\u001b[1;36m1\u001b[0m\u001b[1;33m,\u001b[0m \u001b[1;36m1\u001b[0m\u001b[1;33m)\u001b[0m                  \u001b[1;31m# all actions between -1 and 1\u001b[0m\u001b[1;33m\u001b[0m\u001b[1;33m\u001b[0m\u001b[0m\n\u001b[1;32m----> 9\u001b[1;33m         \u001b[0menv_info\u001b[0m \u001b[1;33m=\u001b[0m \u001b[0menv\u001b[0m\u001b[1;33m.\u001b[0m\u001b[0mstep\u001b[0m\u001b[1;33m(\u001b[0m\u001b[0mactions\u001b[0m\u001b[1;33m)\u001b[0m\u001b[1;33m[\u001b[0m\u001b[0mbrain_name\u001b[0m\u001b[1;33m]\u001b[0m           \u001b[1;31m# send all actions to tne environment\u001b[0m\u001b[1;33m\u001b[0m\u001b[1;33m\u001b[0m\u001b[0m\n\u001b[0m\u001b[0;32m     10\u001b[0m         \u001b[0mnext_states\u001b[0m \u001b[1;33m=\u001b[0m \u001b[0menv_info\u001b[0m\u001b[1;33m.\u001b[0m\u001b[0mvector_observations\u001b[0m         \u001b[1;31m# get next state (for each agent)\u001b[0m\u001b[1;33m\u001b[0m\u001b[1;33m\u001b[0m\u001b[0m\n\u001b[0;32m     11\u001b[0m         \u001b[0mrewards\u001b[0m \u001b[1;33m=\u001b[0m \u001b[0menv_info\u001b[0m\u001b[1;33m.\u001b[0m\u001b[0mrewards\u001b[0m                         \u001b[1;31m# get reward (for each agent)\u001b[0m\u001b[1;33m\u001b[0m\u001b[1;33m\u001b[0m\u001b[0m\n",
      "\u001b[1;32m~\\anaconda3\\envs\\Navigation3\\lib\\site-packages\\unityagents\\environment.py\u001b[0m in \u001b[0;36mstep\u001b[1;34m(self, vector_action, memory, text_action)\u001b[0m\n\u001b[0;32m    364\u001b[0m                         \u001b[0mstr\u001b[0m\u001b[1;33m(\u001b[0m\u001b[0mself\u001b[0m\u001b[1;33m.\u001b[0m\u001b[0m_brains\u001b[0m\u001b[1;33m[\u001b[0m\u001b[0mb\u001b[0m\u001b[1;33m]\u001b[0m\u001b[1;33m.\u001b[0m\u001b[0mvector_action_space_size\u001b[0m \u001b[1;33m*\u001b[0m \u001b[0mn_agent\u001b[0m\u001b[1;33m)\u001b[0m\u001b[1;33m,\u001b[0m\u001b[1;33m\u001b[0m\u001b[1;33m\u001b[0m\u001b[0m\n\u001b[0;32m    365\u001b[0m                         \u001b[0mself\u001b[0m\u001b[1;33m.\u001b[0m\u001b[0m_brains\u001b[0m\u001b[1;33m[\u001b[0m\u001b[0mb\u001b[0m\u001b[1;33m]\u001b[0m\u001b[1;33m.\u001b[0m\u001b[0mvector_action_space_type\u001b[0m\u001b[1;33m,\u001b[0m\u001b[1;33m\u001b[0m\u001b[1;33m\u001b[0m\u001b[0m\n\u001b[1;32m--> 366\u001b[1;33m                         str(vector_action[b])))\n\u001b[0m\u001b[0;32m    367\u001b[0m \u001b[1;33m\u001b[0m\u001b[0m\n\u001b[0;32m    368\u001b[0m             outputs = self.communicator.exchange(\n",
      "\u001b[1;31mUnityActionException\u001b[0m: There was a mismatch between the provided action and environment's expectation: The brain TennisBrain expected 4 continuous action(s), but was provided: [0.8328187435217099, 0.6167805635806435, 0.6762815106358739, 0.9120868581510255, -0.8588231507422037, -0.6832707184137332]"
     ]
    }
   ],
   "source": [
    "for i in range(1, 6):                                      # play game for 5 episodes\n",
    "    env_info = env.reset(train_mode=False)[brain_name]     # reset the environment    \n",
    "    states = env_info.vector_observations                  # get the current state (for each agent)\n",
    "    scores = np.zeros(num_agents)                          # initialize the score (for each agent)\n",
    "    while True:\n",
    "        actions = np.random.randn(num_agents, action_size) # select an action (for each agent)\n",
    "        actions = np.clip(actions, -1, 1)                  # all actions between -1 and 1\n",
    "        env_info = env.step(actions)[brain_name]           # send all actions to tne environment\n",
    "        next_states = env_info.vector_observations         # get next state (for each agent)\n",
    "        rewards = env_info.rewards                         # get reward (for each agent)\n",
    "        dones = env_info.local_done                        # see if episode finished\n",
    "        scores += env_info.rewards                         # update the score (for each agent)\n",
    "        states = next_states                               # roll over states to next time step\n",
    "        if np.any(dones):                                  # exit loop if episode finished\n",
    "            break\n",
    "    print('Score (max over agents) from episode {}: {}'.format(i, np.max(scores)))"
   ]
  },
  {
   "cell_type": "markdown",
   "metadata": {},
   "source": [
    "When finished, you can close the environment."
   ]
  },
  {
   "cell_type": "code",
   "execution_count": 15,
   "metadata": {},
   "outputs": [
    {
     "ename": "UnityEnvironmentException",
     "evalue": "No Unity environment is loaded.",
     "output_type": "error",
     "traceback": [
      "\u001b[1;31m---------------------------------------------------------------------------\u001b[0m",
      "\u001b[1;31mUnityEnvironmentException\u001b[0m                 Traceback (most recent call last)",
      "\u001b[1;32m<ipython-input-15-1baceacf4cb1>\u001b[0m in \u001b[0;36m<module>\u001b[1;34m\u001b[0m\n\u001b[1;32m----> 1\u001b[1;33m \u001b[0menv\u001b[0m\u001b[1;33m.\u001b[0m\u001b[0mclose\u001b[0m\u001b[1;33m(\u001b[0m\u001b[1;33m)\u001b[0m\u001b[1;33m\u001b[0m\u001b[1;33m\u001b[0m\u001b[0m\n\u001b[0m",
      "\u001b[1;32m~\\anaconda3\\envs\\Navigation2\\lib\\site-packages\\unityagents\\environment.py\u001b[0m in \u001b[0;36mclose\u001b[1;34m(self)\u001b[0m\n\u001b[0;32m    392\u001b[0m             \u001b[0mself\u001b[0m\u001b[1;33m.\u001b[0m\u001b[0m_close\u001b[0m\u001b[1;33m(\u001b[0m\u001b[1;33m)\u001b[0m\u001b[1;33m\u001b[0m\u001b[1;33m\u001b[0m\u001b[0m\n\u001b[0;32m    393\u001b[0m         \u001b[1;32melse\u001b[0m\u001b[1;33m:\u001b[0m\u001b[1;33m\u001b[0m\u001b[1;33m\u001b[0m\u001b[0m\n\u001b[1;32m--> 394\u001b[1;33m             \u001b[1;32mraise\u001b[0m \u001b[0mUnityEnvironmentException\u001b[0m\u001b[1;33m(\u001b[0m\u001b[1;34m\"No Unity environment is loaded.\"\u001b[0m\u001b[1;33m)\u001b[0m\u001b[1;33m\u001b[0m\u001b[1;33m\u001b[0m\u001b[0m\n\u001b[0m\u001b[0;32m    395\u001b[0m \u001b[1;33m\u001b[0m\u001b[0m\n\u001b[0;32m    396\u001b[0m     \u001b[1;32mdef\u001b[0m \u001b[0m_close\u001b[0m\u001b[1;33m(\u001b[0m\u001b[0mself\u001b[0m\u001b[1;33m)\u001b[0m\u001b[1;33m:\u001b[0m\u001b[1;33m\u001b[0m\u001b[1;33m\u001b[0m\u001b[0m\n",
      "\u001b[1;31mUnityEnvironmentException\u001b[0m: No Unity environment is loaded."
     ]
    }
   ],
   "source": [
    "env.close()"
   ]
  },
  {
   "cell_type": "markdown",
   "metadata": {},
   "source": [
    "### 4. It's Your Turn!\n",
    "\n",
    "Now it's your turn to train your own agent to solve the environment!  When training the environment, set `train_mode=True`, so that the line for resetting the environment looks like the following:\n",
    "```python\n",
    "env_info = env.reset(train_mode=True)[brain_name]\n",
    "```"
   ]
  },
  {
   "cell_type": "code",
   "execution_count": null,
   "metadata": {},
   "outputs": [],
   "source": [
    "# REFAIRE ENTIEREMENT LE MADDPG ? OUI."
   ]
  },
  {
   "cell_type": "code",
   "execution_count": null,
   "metadata": {},
   "outputs": [],
   "source": []
  },
  {
   "cell_type": "code",
   "execution_count": 482,
   "metadata": {},
   "outputs": [],
   "source": [
    "class MADDPG_LOCAL:\n",
    "    def __init__(self, discount_factor=0.95, tau=0.02):\n",
    "        super(MADDPG_LOCAL, self).__init__()\n",
    "        \n",
    "        self.discount_factor = 0.995\n",
    "        self.tau = 0.002\n",
    "        self.iter = 0\n",
    "        self.device = 'cpu'\n",
    "\n",
    "    \n",
    "    def update(self, samples, agent, logger, DDPG1,DDPG2,noise,agent_number): \n",
    "        \"\"\"update the critics and actors of all the agents \"\"\"\n",
    "\n",
    "        # need to transpose each element of the samples\n",
    "        # to flip obs[parallel_agent][agent_number] to\n",
    "        # obs[agent_number][parallel_agent]\n",
    "        \n",
    "        ## COMMENT\n",
    "        #obs, obs_full, action, reward, next_obs, next_obs_full, done = map(transpose_to_tensor, samples)\n",
    "        print(\"INSIDE UPDATE\")\n",
    "        states, action, reward, next_states, done = samples\n",
    "        \n",
    "        reward = torch.stack(reward)\n",
    "        done = torch.stack(done)\n",
    "        action = torch.stack(action)\n",
    "        states = torch.stack(states)\n",
    "        next_states = torch.stack(next_states)\n",
    "        \n",
    "        ## COMMENT\n",
    "        #obs_full = torch.stack(obs_full)\n",
    "        #next_obs_full = torch.stack(next_obs_full)\n",
    "\n",
    "        \n",
    "        ## COMMENT\n",
    "        #agent = self.maddpg_agent[agent_number]\n",
    "        #agent.critic_optimizer.zero_grad() # On prend le Critic d'un agent\n",
    "        # ? Write the LOSS FOR THE CRITIC ? #\n",
    "        \n",
    "        # WHAT IS THAT ? SOMETHING TO WRITE ?\n",
    "        #critic loss = batch mean of (y- Q(s,a) from target network)^2\n",
    "        #y = reward of this timestep + discount * Q(st+1,at+1) from target network\n",
    "        \n",
    "        # COMMENT\n",
    "        #target_actions = self.target_act(next_obs) # On fait agir tous les actor target des agents \n",
    "        #target_actions = torch.cat(target_actions, dim=1)\n",
    "        # CHANGE THAT.\n",
    "        #target_actions = [ddpg_agent.target_act(obs, noise) for ddpg_agent, obs in zip(self.maddpg_agent, obs_all_agents)] # Get Action target\n",
    "        \n",
    "        # CONCATENATE ACTIONS AND NEXT STATES\n",
    "        target_actions1 = torch.stack([DDPG1.target_act(obs, noise) for obs in next_states[:,0,:]])\n",
    "        target_actions2 = torch.stack([DDPG2.target_act(obs, noise) for obs in next_states[:,1,:]])\n",
    "        \n",
    "        target_actions = torch.cat((target_actions1,target_actions2),dim=1)        \n",
    "        target_critic_input = torch.cat((next_states[:,0,:],next_states[:,1,:],target_actions), dim=1).to(self.device)\n",
    "        \n",
    "        with torch.no_grad():\n",
    "            q_next = agent.target_critic(target_critic_input) # On sort le Q du critic sélectionné \n",
    "        \n",
    "        y = reward[:,agent_number][:,None] + self.discount_factor * q_next * (1 - done[:,agent_number][:,None])\n",
    "        critic_input = torch.cat((states[:,0,:],states[:,1,:], action), dim=1).to(self.device)\n",
    "        \n",
    "        agent.critic_optimizer.zero_grad()\n",
    "        q = agent.critic(critic_input)\n",
    "\n",
    "        huber_loss = torch.nn.SmoothL1Loss()\n",
    "        critic_loss = huber_loss(q, y.detach()) #Huber Loss  between Q <- Directly from the Critic and r + Gamma*q*(1-dones)\n",
    "        critic_loss.backward()  # UPDATE LE CRITIC\n",
    "        #torch.nn.utils.clip_grad_norm_(agent.critic.parameters(), 0.5)\n",
    "        agent.critic_optimizer.step()\n",
    "\n",
    "        #update actor network using policy gradient\n",
    "        agent.actor_optimizer.zero_grad()\n",
    "        \n",
    "        # make input to agent\n",
    "        # detach the other agents to save computation\n",
    "        # saves some time for computing derivative\n",
    "        # I AM HERE I NEED NOW TO UPDATE THE ACTION\n",
    "        #q_input = [self.maddpg_agent[i].actor(ob) if i == agent_number else self.maddpg_agent[i].actor(ob).detach() for i, ob in enumerate(obs)]\n",
    "        #\n",
    "        ############### STILL HAVE TO THOUGH THIS MAYBE SOMETHING IS WRONG ############\n",
    "        # CONCATENATE ACTIONS AND NEXT STATES\n",
    "        actions1 = torch.stack([DDPG1.actor(obs) for obs in states[:,0,:]])\n",
    "        actions2 = torch.stack([DDPG2.actor(obs) for obs in states[:,1,:]])\n",
    "        \n",
    "        if agent_number == 0:\n",
    "            actions2 = actions2.detach()\n",
    "        else:\n",
    "            actions1 = actions1.detach()\n",
    "        \n",
    "        q_input = torch.cat((actions1,actions2),dim=1)        \n",
    "        q_input2 = torch.cat((states[:,0,:],states[:,1,:],q_input), dim=1).to(self.device)\n",
    "        #print(\"WE ARE HERE\")\n",
    "                \n",
    "        #q_input = torch.cat(q_input, dim=1)\n",
    "        # combine all the actions and observations for input to critic\n",
    "        # many of the obs are redundant, and obs[1] contains all useful information already\n",
    "        #q_input2 = torch.cat((obs_full.t(), q_input), dim=1)\n",
    "        \n",
    "        # get the policy gradient\n",
    "        actor_loss = -agent.critic(q_input2).mean()  # UPDATE CRITIC\n",
    "        actor_loss.backward()\n",
    "        #torch.nn.utils.clip_grad_norm_(agent.actor.parameters(),0.5)\n",
    "        agent.actor_optimizer.step()\n",
    "\n",
    "        al = actor_loss.cpu().detach().item()\n",
    "        cl = critic_loss.cpu().detach().item()\n",
    "        logger.add_scalars('Losses' + str(agent_number),\n",
    "                           {'critic loss': cl,\n",
    "                            'actor_loss': al},\n",
    "                           self.iter)\n",
    "\n",
    "    def update_targets(self,DDPG1,DDPG2):\n",
    "        self.iter += 1\n",
    "      \n",
    "        soft_update(DDPG1.target_actor, DDPG1.actor, self.tau)\n",
    "        soft_update(DDPG1.target_critic, DDPG1.critic, self.tau)\n",
    "        \n",
    "        soft_update(DDPG2.target_actor, DDPG2.actor, self.tau)\n",
    "        soft_update(DDPG2.target_critic, DDPG2.critic, self.tau)"
   ]
  },
  {
   "cell_type": "code",
   "execution_count": 483,
   "metadata": {},
   "outputs": [],
   "source": [
    "from Py_Files.buffer import ReplayBuffer\n",
    "from Py_Files.maddpg import MADDPG\n",
    "from Py_Files.ddpg import DDPGAgent\n",
    "import torch\n",
    "import numpy as np\n",
    "from torch.utils.tensorboard import SummaryWriter\n",
    "import os\n",
    "from Py_Files.utilities import transpose_list, transpose_to_tensor,soft_update"
   ]
  },
  {
   "cell_type": "code",
   "execution_count": 484,
   "metadata": {
    "scrolled": true
   },
   "outputs": [],
   "source": [
    "DDPG1 = DDPGAgent(24,100,64,2,52,100,64,1.0e-4,1.0e-4)\n",
    "DDPG2 = DDPGAgent(24,100,64,2,52,100,64,1.0e-4,1.0e-4)\n",
    "MADDPG_LOCAL = MADDPG_LOCAL()"
   ]
  },
  {
   "cell_type": "code",
   "execution_count": 485,
   "metadata": {},
   "outputs": [],
   "source": [
    "writer = SummaryWriter()\n",
    "\n",
    "def seeding(seed=1):\n",
    "    np.random.seed(seed)\n",
    "    torch.manual_seed(seed)\n",
    "\n",
    "def pre_process(entity, batchsize):\n",
    "    processed_entity = []\n",
    "    for j in range(3):\n",
    "        list = []\n",
    "        for i in range(batchsize):\n",
    "            b = entity[i][j]\n",
    "            list.append(b)\n",
    "        c = torch.Tensor(list)\n",
    "        processed_entity.append(c)\n",
    "    return processed_entity"
   ]
  },
  {
   "cell_type": "code",
   "execution_count": 487,
   "metadata": {},
   "outputs": [],
   "source": [
    "# Maybe collect more episode in the other algo and make batch learning #\n",
    "def main(DDPG1,DDPG2,MADDPG_LOCAL):\n",
    "    seeding()\n",
    "    env_info = env.reset(train_mode=True)[brain_name]\n",
    "    parallel_envs = 1 # No one In tennis env # number of parallel agents\n",
    "\n",
    "    number_of_episodes = 2000  # number of training episodes. # change this to higher number to experiment. say 30000.\n",
    "    episode_length = 100\n",
    "    batchsize = 512 # So there is batch size for 80 episode length\n",
    "    # how many episodes to save policy and gif\n",
    "    t = 0\n",
    "    \n",
    "    # amplitude of OU noise\n",
    "    # this slowly decreases to 0\n",
    "    noise = 2\n",
    "    noise_reduction = 0.9999\n",
    "\n",
    "    # how many episodes before update\n",
    "    episode_per_update = 4 \n",
    "\n",
    "    log_path = os.getcwd()+\"/Py_Files\"\n",
    "    model_dir= os.getcwd()+\"/Py_Files\"\n",
    "    \n",
    "    os.makedirs(model_dir, exist_ok=True) # Return True si ça marge.\n",
    "\n",
    "    buffer = ReplayBuffer(int(5000)) # A repplay buffer as casual for ddppg\n",
    "    \n",
    "    agent0_reward = []\n",
    "    agent1_reward = []\n",
    "    maddpg = MADDPG()\n",
    "\n",
    "    for episode in range(0, number_of_episodes):\n",
    "        env_info = env.reset(train_mode=True)[brain_name]\n",
    "        reward_this_episode = np.zeros(2)\n",
    "        states = env_info.vector_observations\n",
    "        frames = []\n",
    "        tmax = 0\n",
    "        \n",
    "        \n",
    "        # EVALUATION TIME.\n",
    "        for episode_t in range(episode_length):\n",
    "            states1 = torch.from_numpy(states[0]).float()\n",
    "            states2 = torch.from_numpy(states[1]).float()\n",
    "            \n",
    "            action1 = DDPG1.act(states1, noise)\n",
    "            action2 = DDPG2.act(states2, noise)\n",
    "            noise *= noise_reduction\n",
    "            actions = [action1,action2]\n",
    "            actions_array = torch.stack(actions).detach().numpy()\n",
    "            actions_array = np.clip(actions_array,-1,1)\n",
    "            \n",
    "            env_info = env.step(actions_array)[brain_name]\n",
    "            next_states = env_info.vector_observations         # get next state (for each agent)\n",
    "            rewards = env_info.rewards                         # get reward (for each agent)\n",
    "            dones = env_info.local_done                        # see if episode finished\n",
    "            reward_this_episode += env_info.rewards            # update the score (for each agent)\n",
    "            done = dones\n",
    "            \n",
    "            for i,d in enumerate(dones):\n",
    "                if d == True:\n",
    "                    dones[i] = 1\n",
    "                else:\n",
    "                    dones[i] = 0\n",
    "            \n",
    "            # add data tbuffer\n",
    "            transition = (torch.from_numpy(np.asarray([states])).float(), torch.from_numpy(np.asarray([actions_array.flatten()])), torch.from_numpy(np.asarray([rewards])), torch.from_numpy(np.asarray([next_states])).float(), torch.from_numpy(np.asarray([dones])))\n",
    "            #transition = (torch.from_numpy(states).float(), torch.from_numpy(np.asarray([actions_for_env.flatten()])), torch.from_numpy(np.asarray([rewards])), torch.from_numpy(next_states).float(), torch.from_numpy(np.asarray([dones])))\n",
    "            \n",
    "            buffer.push(transition)\n",
    "            \n",
    "            states = next_states\n",
    "            \n",
    "            if np.any(done):                                  # exit loop if episode finished\n",
    "                break\n",
    "\n",
    "        if len(buffer) > batchsize and episode % episode_per_update <= 2:#and episode % episode_per_update < parallel_envs:\n",
    "            agent_number = 0\n",
    "            for agent in [DDPG1,DDPG2]:\n",
    "                samples = buffer.sample(batchsize)\n",
    "                MADDPG_LOCAL.update(samples, agent, writer,DDPG1,DDPG2,noise,agent_number) # Update les actor-critic 1 par 1.\n",
    "                agent_number +=1\n",
    "            MADDPG_LOCAL.update_targets(DDPG1,DDPG2) #soft ALL the update the target network towards the actual networks\n",
    "        # End LEARNING\n",
    "\n",
    "        # STORE REWARD\n",
    "        agent0_reward.append(reward_this_episode[0])\n",
    "        agent1_reward.append(reward_this_episode[1])\n",
    "        \n",
    "        if episode % 100 == 0 or episode == number_of_episodes-1 :\n",
    "            avg_rewards = [np.mean(agent0_reward), np.mean(agent1_reward)]\n",
    "            agent0_reward = []\n",
    "            agent1_reward = []\n",
    "            print(\"Reward Mean\")\n",
    "            print(avg_rewards)\n",
    "            for a_i, avg_rew in enumerate(avg_rewards):\n",
    "                writer.add_scalar('Mean_rewards' + str(a_i), avg_rew, episode)\n",
    "        \n",
    "        for a_i, avg_rew in enumerate(reward_this_episode):\n",
    "            writer.add_scalar('Episode_rewards' + str(a_i), avg_rew, episode)\n",
    "            \n",
    "        if np.mean(np.asarray(avg_rewards)) > 0.5:\n",
    "            torch.save(DDPG1.actor.state_dict(), 'checkpoint_agent1_actor.pth')\n",
    "            torch.save(DDPG1.critic.state_dict(), 'checkpoint_agent1_critic.pth')\n",
    "\n",
    "            torch.save(DDPG2.actor.state_dict(), 'checkpoint_agent2_actor.pth')\n",
    "            torch.save(DDPG2.critic.state_dict(), 'checkpoint_agent2_critic.pth')\n",
    "\n",
    "            print('\\nEnvironment solved in {:d} episodes!\\tAverage Score: {:.2f}'.format(i_episode, np.mean(scores_window)))\n",
    "            break  \n",
    "            \n",
    "    env.close()"
   ]
  },
  {
   "cell_type": "markdown",
   "metadata": {},
   "source": [
    "# Launch"
   ]
  },
  {
   "cell_type": "code",
   "execution_count": null,
   "metadata": {
    "scrolled": true
   },
   "outputs": [
    {
     "name": "stdout",
     "output_type": "stream",
     "text": [
      "Reward Mean\n",
      "[0.0, -0.009999999776482582]\n",
      "INSIDE UPDATE\n",
      "INSIDE UPDATE\n",
      "INSIDE UPDATE\n",
      "INSIDE UPDATE\n",
      "INSIDE UPDATE\n",
      "INSIDE UPDATE\n",
      "INSIDE UPDATE\n",
      "INSIDE UPDATE\n",
      "INSIDE UPDATE\n",
      "INSIDE UPDATE\n",
      "INSIDE UPDATE\n",
      "INSIDE UPDATE\n",
      "INSIDE UPDATE\n",
      "INSIDE UPDATE\n",
      "INSIDE UPDATE\n",
      "INSIDE UPDATE\n",
      "INSIDE UPDATE\n",
      "INSIDE UPDATE\n",
      "INSIDE UPDATE\n",
      "INSIDE UPDATE\n",
      "INSIDE UPDATE\n",
      "INSIDE UPDATE\n",
      "INSIDE UPDATE\n",
      "INSIDE UPDATE\n",
      "INSIDE UPDATE\n",
      "INSIDE UPDATE\n",
      "INSIDE UPDATE\n",
      "INSIDE UPDATE\n",
      "INSIDE UPDATE\n",
      "INSIDE UPDATE\n",
      "INSIDE UPDATE\n",
      "INSIDE UPDATE\n",
      "INSIDE UPDATE\n",
      "INSIDE UPDATE\n",
      "INSIDE UPDATE\n",
      "INSIDE UPDATE\n",
      "INSIDE UPDATE\n",
      "INSIDE UPDATE\n",
      "INSIDE UPDATE\n",
      "INSIDE UPDATE\n",
      "INSIDE UPDATE\n",
      "INSIDE UPDATE\n",
      "INSIDE UPDATE\n",
      "INSIDE UPDATE\n",
      "INSIDE UPDATE\n",
      "INSIDE UPDATE\n",
      "INSIDE UPDATE\n",
      "INSIDE UPDATE\n",
      "INSIDE UPDATE\n",
      "INSIDE UPDATE\n",
      "INSIDE UPDATE\n",
      "INSIDE UPDATE\n",
      "INSIDE UPDATE\n",
      "INSIDE UPDATE\n",
      "INSIDE UPDATE\n",
      "INSIDE UPDATE\n",
      "INSIDE UPDATE\n",
      "INSIDE UPDATE\n",
      "INSIDE UPDATE\n",
      "INSIDE UPDATE\n",
      "INSIDE UPDATE\n",
      "INSIDE UPDATE\n",
      "INSIDE UPDATE\n",
      "INSIDE UPDATE\n",
      "INSIDE UPDATE\n",
      "INSIDE UPDATE\n",
      "INSIDE UPDATE\n",
      "INSIDE UPDATE\n",
      "INSIDE UPDATE\n",
      "INSIDE UPDATE\n",
      "INSIDE UPDATE\n",
      "INSIDE UPDATE\n",
      "INSIDE UPDATE\n",
      "INSIDE UPDATE\n",
      "INSIDE UPDATE\n",
      "INSIDE UPDATE\n",
      "INSIDE UPDATE\n",
      "INSIDE UPDATE\n",
      "INSIDE UPDATE\n",
      "INSIDE UPDATE\n",
      "INSIDE UPDATE\n",
      "INSIDE UPDATE\n",
      "INSIDE UPDATE\n",
      "INSIDE UPDATE\n",
      "INSIDE UPDATE\n",
      "INSIDE UPDATE\n",
      "INSIDE UPDATE\n",
      "INSIDE UPDATE\n",
      "INSIDE UPDATE\n",
      "INSIDE UPDATE\n",
      "INSIDE UPDATE\n",
      "INSIDE UPDATE\n",
      "INSIDE UPDATE\n",
      "INSIDE UPDATE\n",
      "INSIDE UPDATE\n",
      "INSIDE UPDATE\n",
      "INSIDE UPDATE\n",
      "INSIDE UPDATE\n",
      "Reward Mean\n",
      "[-0.004599999897181988, -0.0003999998047947884]\n",
      "INSIDE UPDATE\n",
      "INSIDE UPDATE\n",
      "INSIDE UPDATE\n",
      "INSIDE UPDATE\n",
      "INSIDE UPDATE\n",
      "INSIDE UPDATE\n",
      "INSIDE UPDATE\n",
      "INSIDE UPDATE\n",
      "INSIDE UPDATE\n",
      "INSIDE UPDATE\n"
     ]
    }
   ],
   "source": [
    "main(DDPG1,DDPG2,MADDPG_LOCAL)"
   ]
  },
  {
   "cell_type": "code",
   "execution_count": null,
   "metadata": {},
   "outputs": [],
   "source": [
    "# The environment is considered solved, when the average (over 100 episodes) of those scores is at least +0.5."
   ]
  },
  {
   "cell_type": "code",
   "execution_count": null,
   "metadata": {},
   "outputs": [],
   "source": [
    "#After each episode, we add up the rewards that each agent received (without discounting), \n",
    "#to get a score for each agent. This yields 2 (potentially different) scores. We then take the maximum of these 2 scores.\n",
    "#This yields a single score for each episode"
   ]
  },
  {
   "cell_type": "code",
   "execution_count": null,
   "metadata": {},
   "outputs": [],
   "source": []
  }
 ],
 "metadata": {
  "kernelspec": {
   "display_name": "Navigation3",
   "language": "python",
   "name": "navigation3"
  },
  "language_info": {
   "codemirror_mode": {
    "name": "ipython",
    "version": 3
   },
   "file_extension": ".py",
   "mimetype": "text/x-python",
   "name": "python",
   "nbconvert_exporter": "python",
   "pygments_lexer": "ipython3",
   "version": "3.6.13"
  }
 },
 "nbformat": 4,
 "nbformat_minor": 2
}
